{
  "nbformat": 4,
  "nbformat_minor": 0,
  "metadata": {
    "colab": {
      "provenance": [],
      "authorship_tag": "ABX9TyPXGuDy9xMBTJmjQd7sETjG",
      "include_colab_link": true
    },
    "kernelspec": {
      "name": "python3",
      "display_name": "Python 3"
    },
    "language_info": {
      "name": "python"
    }
  },
  "cells": [
    {
      "cell_type": "markdown",
      "metadata": {
        "id": "view-in-github",
        "colab_type": "text"
      },
      "source": [
        "<a href=\"https://colab.research.google.com/github/TatanPerez/Teoria_Aprendizaje_Maquina/blob/main/Independencia.ipynb\" target=\"_parent\"><img src=\"https://colab.research.google.com/assets/colab-badge.svg\" alt=\"Open In Colab\"/></a>"
      ]
    },
    {
      "cell_type": "markdown",
      "source": [
        "soy un estudiante donde quiero el codigo en python de manera ordenada para el siguiente caso. tengo dos bolsas (roja y azul) y en cada bolsa un numero diferente de dos frutas (manzanas y naranjas). para esto quiero que se pueda establecer la \"pior\" de cada bolsa, utiliza 0.4 para la bolsa roja y 0.6 para la bolsa azul. para probar el codigo utiliza en la bolsa roja 2 manzanas y 6 naranjas, en la bolsa azul coloca 3 manzanas y 1 naranja . adicional quiero sus probabilidades y la manera matematica segun el teorema de bayes. de una fruta dado una bolsa y una bolsa dado una fruta"
      ],
      "metadata": {
        "id": "DlE4ZHoLcDTx"
      }
    },
    {
      "cell_type": "code",
      "source": [
        "import numpy as np\n",
        "\n",
        "def calcular_probabilidades():\n",
        "    # Definir las probabilidades a priori de cada bolsa\n",
        "    P_roja = 0.4  # P(Bolsa Roja)\n",
        "    P_azul = 0.6  # P(Bolsa Azul)\n",
        "\n",
        "    # Definir la distribución de frutas en cada bolsa\n",
        "    frutas_roja = {\"manzana\": 2, \"naranja\": 6}\n",
        "    frutas_azul = {\"manzana\": 3, \"naranja\": 1}\n",
        "\n",
        "    # Total de frutas en cada bolsa\n",
        "    total_roja = sum(frutas_roja.values())\n",
        "    total_azul = sum(frutas_azul.values())\n",
        "\n",
        "    # Probabilidades condicionales de una fruta dado una bolsa\n",
        "    P_manzana_dado_roja = frutas_roja[\"manzana\"] / total_roja\n",
        "    P_naranja_dado_roja = frutas_roja[\"naranja\"] / total_roja\n",
        "    P_manzana_dado_azul = frutas_azul[\"manzana\"] / total_azul\n",
        "    P_naranja_dado_azul = frutas_azul[\"naranja\"] / total_azul\n",
        "\n",
        "    # Probabilidad total de cada fruta (teorema de la probabilidad total)\n",
        "    P_manzana = P_manzana_dado_roja * P_roja + P_manzana_dado_azul * P_azul\n",
        "    P_naranja = P_naranja_dado_roja * P_roja + P_naranja_dado_azul * P_azul\n",
        "\n",
        "    # Aplicando el Teorema de Bayes: P(Bolsa | Fruta)\n",
        "    P_roja_dado_manzana = (P_manzana_dado_roja * P_roja) / P_manzana\n",
        "    P_azul_dado_manzana = (P_manzana_dado_azul * P_azul) / P_manzana\n",
        "    P_roja_dado_naranja = (P_naranja_dado_roja * P_roja) / P_naranja\n",
        "    P_azul_dado_naranja = (P_naranja_dado_azul * P_azul) / P_naranja\n",
        "\n",
        "    # Imprimir resultados\n",
        "    print(\"Probabilidades condicionales P(Fruta | Bolsa):\")\n",
        "    print(f\"P(Manzana | Roja) = {P_manzana_dado_roja:.2f}\")\n",
        "    print(f\"P(Naranja | Roja) = {P_naranja_dado_roja:.2f}\")\n",
        "    print(f\"P(Manzana | Azul) = {P_manzana_dado_azul:.2f}\")\n",
        "    print(f\"P(Naranja | Azul) = {P_naranja_dado_azul:.2f}\\n\")\n",
        "\n",
        "    print(\"Probabilidad total de cada fruta:\")\n",
        "    print(f\"P(Manzana) = {P_manzana:.2f}\")\n",
        "    print(f\"P(Naranja) = {P_naranja:.2f}\\n\")\n",
        "\n",
        "    print(\"Probabilidades inversas P(Bolsa | Fruta) aplicando el teorema de Bayes:\")\n",
        "    print(f\"P(Roja | Manzana) = {P_roja_dado_manzana:.2f}\")\n",
        "    print(f\"P(Azul | Manzana) = {P_azul_dado_manzana:.2f}\")\n",
        "    print(f\"P(Roja | Naranja) = {P_roja_dado_naranja:.2f}\")\n",
        "    print(f\"P(Azul | Naranja) = {P_azul_dado_naranja:.2f}\")\n",
        "\n",
        "# Ejecutar la función\n",
        "calcular_probabilidades()\n"
      ],
      "metadata": {
        "colab": {
          "base_uri": "https://localhost:8080/"
        },
        "id": "4RGHO3HpcZqN",
        "outputId": "a04f228d-f344-4724-b419-daa89e73fe9d"
      },
      "execution_count": null,
      "outputs": [
        {
          "output_type": "stream",
          "name": "stdout",
          "text": [
            "Probabilidades condicionales P(Fruta | Bolsa):\n",
            "P(Manzana | Roja) = 0.25\n",
            "P(Naranja | Roja) = 0.75\n",
            "P(Manzana | Azul) = 0.75\n",
            "P(Naranja | Azul) = 0.25\n",
            "\n",
            "Probabilidad total de cada fruta:\n",
            "P(Manzana) = 0.55\n",
            "P(Naranja) = 0.45\n",
            "\n",
            "Probabilidades inversas P(Bolsa | Fruta) aplicando el teorema de Bayes:\n",
            "P(Roja | Manzana) = 0.18\n",
            "P(Azul | Manzana) = 0.82\n",
            "P(Roja | Naranja) = 0.67\n",
            "P(Azul | Naranja) = 0.33\n"
          ]
        }
      ]
    }
  ]
}